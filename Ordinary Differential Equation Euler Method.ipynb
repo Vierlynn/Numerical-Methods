{
  "nbformat": 4,
  "nbformat_minor": 0,
  "metadata": {
    "colab": {
      "name": "Homework Week 8 Nanda Hakiki 1301160443.ipynb",
      "provenance": [],
      "collapsed_sections": []
    },
    "kernelspec": {
      "name": "python3",
      "display_name": "Python 3"
    }
  },
  "cells": [
    {
      "cell_type": "markdown",
      "metadata": {
        "colab_type": "text",
        "id": "HD9PblCCVkgc"
      },
      "source": [
        "# <center> Numerical Method for Informatics</center>\n",
        "## <center> Ordinary Differential Equation: Euler Method</center>\n",
        "\n",
        "This course is devoted to student of Undergraduate Student of Informatics, Telkom University. \n",
        "\n",
        "Detail of Course\n",
        "\n",
        "\n",
        "*   Course Name: (CSH4403) Numerical Method for Informatics\n",
        "\n",
        "*   Creator: Dr. Putu Harry Gunawan\n",
        "\n",
        "\n",
        "\n",
        "---\n",
        "\n",
        "\n",
        "\n",
        "\n"
      ]
    },
    {
      "cell_type": "markdown",
      "metadata": {
        "colab_type": "text",
        "id": "XiE-U8OyE9-a"
      },
      "source": [
        "**EULER'S ALGORITHM**\n",
        "\n",
        "<center><img src = \"https://i.imgur.com/AIKR1Wx.png\" align = \"center\"> </center>\n",
        "\n",
        "\n",
        "\n",
        "\n"
      ]
    },
    {
      "cell_type": "markdown",
      "metadata": {
        "colab_type": "text",
        "id": "MV8MITZfnLCw"
      },
      "source": [
        "**Example 1**\n",
        "\n",
        "Euler’s method was used in the first illustration with $h = 0.5$ to approximate the solution to the initial-value problem\n",
        "\n",
        "\\begin{equation}\n",
        "    y′=y - t^2 + 1, \\quad 0 \\leq t \\leq 2, \\quad y(0)=0.5.\n",
        "\\end{equation}\n",
        "\n",
        "Use Algorithm 5. 1 with $N = 10$ to determine approximations, and compare these with the exact values given by $y(t) = (t + 1)^2 - 0.5 e^t$ .\n",
        "\n",
        "The result should be as the following Table\n",
        "<center><img src = \"https://i.imgur.com/cGFX2L0.png\" align = \"center\"> </center>\n"
      ]
    },
    {
      "cell_type": "code",
      "execution_count": 0,
      "metadata": {
        "colab": {
          "base_uri": "https://localhost:8080/",
          "height": 232
        },
        "colab_type": "code",
        "id": "O_kmew7tn-c6",
        "outputId": "6ca05a6f-4b0e-45f8-bbbe-b92d9a6452fb"
      },
      "outputs": [
        {
          "name": "stdout",
          "output_type": "stream",
          "text": [
            "iteration : 0       0, 0.5, 0.5,0.0\n",
            "iteration : 1       0.2, 0.8, 0.829298620919915,0.029298620919914975\n",
            "iteration : 2       0.4, 1.1520000000000001, 1.2140876511793646,0.062087651179364434\n",
            "iteration : 3       0.6000000000000001, 1.5504000000000002, 1.648940599804746,0.09854059980474572\n",
            "iteration : 4       0.8, 1.9884800000000002, 2.1272295357537665,0.13874953575376625\n",
            "iteration : 5       1.0, 2.4581760000000004, 2.6408590857704777,0.18268308577047732\n",
            "iteration : 6       1.2000000000000002, 2.9498112000000005, 3.1799415386317267,0.23013033863172616\n",
            "iteration : 7       1.4000000000000001, 3.4517734400000006, 3.732400016577664,0.2806265765776632\n",
            "iteration : 8       1.6, 3.9501281280000007, 4.283483787802443,0.3333556598024425\n",
            "iteration : 9       1.8, 4.428153753600001, 4.815176267793525,0.3870225141935242\n",
            "iteration : 10       2.0, 4.865784504320001, 5.305471950534675,0.43968744621467337\n"
          ]
        }
      ],
      "source": [
        "import numpy as np\n",
        "\n",
        "def Y(t):\n",
        "  return (t + 1)**2 - 0.5*np.exp(t)\n",
        "\n",
        "def F(t,y):\n",
        "  return y - t**2 + 1\n",
        "\n",
        "a = 0\n",
        "b = 2\n",
        "N = 10\n",
        "\n",
        "#step 1\n",
        "h = (b-a)/N\n",
        "t = a\n",
        "w = 0.5\n",
        "print('iteration :',0, \"      {}, {}, {},{}\".format(t,w,Y(t),abs(w-Y(t))))\n",
        "#step 2\n",
        "i = 1\n",
        "while(i<=N):\n",
        "#step 3\n",
        "  w = w + h * F(t,w)\n",
        "#step 4\n",
        "  t = a + i*h\n",
        "  print('iteration :',i, \"      {}, {}, {},{}\".format(t,w,Y(t),abs(w-Y(t))))\n",
        "  i += 1"
      ]
    },
    {
      "cell_type": "markdown",
      "metadata": {
        "colab_type": "text",
        "id": "w6hSrKItmb9I"
      },
      "source": [
        "# Exercise\n",
        "\n",
        "<center><img src = \"https://i.imgur.com/f2Vytli.png\" align = \"center\"> </center>\n",
        "<center><img src = \"https://i.imgur.com/BkmOko6.png\" align = \"center\"> </center>\n"
      ]
    },
    {
      "cell_type": "markdown",
      "metadata": {
        "colab_type": "text",
        "id": "7ZWKCFexIhaZ"
      },
      "source": [
        "## 1 + 3\n"
      ]
    },
    {
      "cell_type": "markdown",
      "metadata": {
        "colab_type": "text",
        "id": "hNmc_ah0WXSg"
      },
      "source": [
        "### a"
      ]
    },
    {
      "cell_type": "code",
      "execution_count": 0,
      "metadata": {
        "colab": {
          "base_uri": "https://localhost:8080/",
          "height": 70
        },
        "colab_type": "code",
        "id": "P6tyO-ZOIEFa",
        "outputId": "459c2351-d6c9-459d-daa0-4af1e085f009"
      },
      "outputs": [
        {
          "name": "stdout",
          "output_type": "stream",
          "text": [
            "iteration : 0       0, 0, 0.0,0.0\n",
            "iteration : 1       0.5, 0.0, 0.2836165218671416,0.2836165218671416\n",
            "iteration : 2       1.0, 1.1204222675845161, 3.2190993190394916,2.0986770514549757\n"
          ]
        }
      ],
      "source": [
        "import numpy as np\n",
        "\n",
        "def Y(t):\n",
        "  return (t*np.exp(3*t)/5) - (np.exp(3*t)/25) + (np.exp(-2*t)/25)\n",
        "\n",
        "def F(t,y):\n",
        "  return (t*np.exp(3*t)) - (2*y)\n",
        "a = 0\n",
        "b = 1\n",
        "\n",
        "#step 1\n",
        "h = 0.5\n",
        "N = (b-a)/h\n",
        "t = a\n",
        "w = 0\n",
        "print('iteration :',0, \"      {}, {}, {},{}\".format(t,w,Y(t),abs(w-Y(t))))\n",
        "#step 2\n",
        "i = 1\n",
        "while(i<=N):\n",
        "#step 3\n",
        "  w = w + h * F(t,w)\n",
        "#step 4\n",
        "  t = a + i*h\n",
        "  print('iteration :',i, \"      {}, {}, {},{}\".format(t,w,Y(t),abs(w-Y(t))))\n",
        "  i += 1"
      ]
    },
    {
      "cell_type": "markdown",
      "metadata": {
        "colab_type": "text",
        "id": "GgMoEBMKM32e"
      },
      "source": [
        "### b"
      ]
    },
    {
      "cell_type": "code",
      "execution_count": 0,
      "metadata": {
        "colab": {
          "base_uri": "https://localhost:8080/",
          "height": 70
        },
        "colab_type": "code",
        "id": "nv28IVkIMr_k",
        "outputId": "ef527328-9e36-4a01-d39f-c09f87111825"
      },
      "outputs": [
        {
          "name": "stdout",
          "output_type": "stream",
          "text": [
            "iteration : 0       2, 1, 1.0,0.0\n",
            "iteration : 1       2.5, 2.0, 1.8333333333333335,0.16666666666666652\n",
            "iteration : 2       3.0, 2.625, 2.5,0.125\n"
          ]
        }
      ],
      "source": [
        "import numpy as np\n",
        "\n",
        "def Y(t):\n",
        "  return t + (1/(1-t))\n",
        "\n",
        "def F(t,y):\n",
        "  return 1 + (t-y)**2\n",
        "a = 2\n",
        "b = 3\n",
        "\n",
        "#step 1\n",
        "h = 0.5\n",
        "N = (b-a)/h\n",
        "t = a\n",
        "w = 1\n",
        "print('iteration :',0, \"      {}, {}, {},{}\".format(t,w,Y(t),abs(w-Y(t))))\n",
        "#step 2\n",
        "i = 1\n",
        "while(i<=N):\n",
        "#step 3\n",
        "  w = w + h * F(t,w)\n",
        "#step 4\n",
        "  t = a + i*h\n",
        "  print('iteration :',i, \"      {}, {}, {},{}\".format(t,w,Y(t),abs(w-Y(t))))\n",
        "  i += 1"
      ]
    },
    {
      "cell_type": "markdown",
      "metadata": {
        "colab_type": "text",
        "id": "NjocGUcwNzbO"
      },
      "source": [
        "### c"
      ]
    },
    {
      "cell_type": "code",
      "execution_count": 0,
      "metadata": {
        "colab": {
          "base_uri": "https://localhost:8080/",
          "height": 106
        },
        "colab_type": "code",
        "id": "J7Q1DL-dN368",
        "outputId": "d5b92879-290b-4da2-dd1b-79e32f5cad16"
      },
      "outputs": [
        {
          "name": "stdout",
          "output_type": "stream",
          "text": [
            "iteration : 0       1, 2, 2.0,0.0\n",
            "iteration : 1       1.25, 2.75, 2.7789294391427624,0.02892943914276236\n",
            "iteration : 2       1.5, 3.55, 3.6081976621622465,0.058197662162246644\n",
            "iteration : 3       1.75, 4.391666666666667, 4.47932762888699,0.08766096222032349\n",
            "iteration : 4       2.0, 5.269047619047619, 5.386294361119891,0.11724674207227181\n"
          ]
        }
      ],
      "source": [
        "import numpy as np\n",
        "\n",
        "def Y(t):\n",
        "  return t*np.log(t) + 2*t\n",
        "\n",
        "def F(t,y):\n",
        "  return 1 + y/t\n",
        "a = 1\n",
        "b = 2\n",
        "\n",
        "#step 1\n",
        "h = 0.25\n",
        "N = (b-a)/h\n",
        "t = a\n",
        "w = 2\n",
        "print('iteration :',0, \"      {}, {}, {},{}\".format(t,w,Y(t),abs(w-Y(t))))\n",
        "#step 2\n",
        "i = 1\n",
        "while(i<=N):\n",
        "#step 3\n",
        "  w = w + h * F(t,w)\n",
        "#step 4\n",
        "  t = a + i*h\n",
        "  print('iteration :',i, \"      {}, {}, {},{}\".format(t,w,Y(t),abs(w-Y(t))))\n",
        "  i += 1"
      ]
    },
    {
      "cell_type": "markdown",
      "metadata": {
        "colab_type": "text",
        "id": "vvZKtUz_OPLg"
      },
      "source": [
        "### d"
      ]
    },
    {
      "cell_type": "code",
      "execution_count": 0,
      "metadata": {
        "colab": {
          "base_uri": "https://localhost:8080/",
          "height": 106
        },
        "colab_type": "code",
        "id": "Io9o2j3UOTPB",
        "outputId": "21be8356-dd42-417e-fcdb-965728ae7af9"
      },
      "outputs": [
        {
          "name": "stdout",
          "output_type": "stream",
          "text": [
            "iteration : 0       0, 1, 1.0,0.0\n",
            "iteration : 1       0.25, 1.25, 1.3291498130108277,0.07914981301082769\n",
            "iteration : 2       0.5, 1.6398053304784268, 1.7304897585147139,0.09068442803628707\n",
            "iteration : 3       0.75, 2.0242546535964756, 2.041472034209607,0.017217380613131272\n",
            "iteration : 4       1.0, 2.2364572532353817, 2.1179795456129895,0.11847770762239218\n"
          ]
        }
      ],
      "source": [
        "import numpy as np\n",
        "\n",
        "def Y(t):\n",
        "  return (np.sin(2*t)/2) - (np.cos(3*t)/3) + (4/3)\n",
        "\n",
        "def F(t,y):\n",
        "  return np.cos(2*t) + np.sin(3*t)\n",
        "a = 0\n",
        "b = 1\n",
        "\n",
        "#step 1\n",
        "h = 0.25\n",
        "N = (b-a)/h\n",
        "t = a\n",
        "w = 1\n",
        "print('iteration :',0, \"      {}, {}, {},{}\".format(t,w,Y(t),abs(w-Y(t))))\n",
        "#step 2\n",
        "i = 1\n",
        "while(i<=N):\n",
        "#step 3\n",
        "  w = w + h * F(t,w)\n",
        "#step 4\n",
        "  t = a + i*h\n",
        "  print('iteration :',i, \"      {}, {}, {},{}\".format(t,w,Y(t),abs(w-Y(t))))\n",
        "  i += 1"
      ]
    },
    {
      "cell_type": "markdown",
      "metadata": {
        "colab_type": "text",
        "id": "uqnEuLnMSNli"
      },
      "source": [
        "## 2+4\n"
      ]
    },
    {
      "cell_type": "markdown",
      "metadata": {
        "colab_type": "text",
        "id": "1YO2WipHWa9g"
      },
      "source": [
        "### a"
      ]
    },
    {
      "cell_type": "code",
      "execution_count": 0,
      "metadata": {
        "colab": {
          "base_uri": "https://localhost:8080/",
          "height": 70
        },
        "colab_type": "code",
        "id": "iu3M4X81SXxx",
        "outputId": "d6e7c205-7559-41db-e455-9f447682ca5c"
      },
      "outputs": [
        {
          "name": "stdout",
          "output_type": "stream",
          "text": [
            "iteration : 0       0, 1, 1.0,0.0\n",
            "iteration : 1       0.5, 1.1839397205857212, 1.2140230606297089,0.030083340043987716\n",
            "iteration : 2       1.0, 1.436252215343503, 1.4898801256447498,0.05362791030124692\n"
          ]
        }
      ],
      "source": [
        "import numpy as np\n",
        "\n",
        "def Y(t):\n",
        "  return np.log(np.exp(t) + np.exp(1) - 1)\n",
        "\n",
        "def F(t,y):\n",
        "  return np.exp(t-y)\n",
        "a = 0\n",
        "b = 1\n",
        "\n",
        "#step 1\n",
        "h = 0.5\n",
        "N = (b-a)/h\n",
        "t = a\n",
        "w = 1\n",
        "print('iteration :',0, \"      {}, {}, {},{}\".format(t,w,Y(t),abs(w-Y(t))))\n",
        "#step 2\n",
        "i = 1\n",
        "while(i<=N):\n",
        "#step 3\n",
        "  w = w + h * F(t,w)\n",
        "#step 4\n",
        "  t = a + i*h\n",
        "  print('iteration :',i, \"      {}, {}, {},{}\".format(t,w,Y(t),abs(w-Y(t))))\n",
        "  i += 1"
      ]
    },
    {
      "cell_type": "markdown",
      "metadata": {
        "colab_type": "text",
        "id": "2JSNctgST9ww"
      },
      "source": [
        "### b"
      ]
    },
    {
      "cell_type": "code",
      "execution_count": 0,
      "metadata": {
        "colab": {
          "base_uri": "https://localhost:8080/",
          "height": 70
        },
        "colab_type": "code",
        "id": "63H9dI2eT_P4",
        "outputId": "f950332e-2a66-4da6-a4c4-ca58f4d3af70"
      },
      "outputs": [
        {
          "name": "stdout",
          "output_type": "stream",
          "text": [
            "iteration : 0       1, 2, 2.0,0.0\n",
            "iteration : 1       1.5, 2.3333333333333335, 2.3541019662496847,0.020768632916351226\n",
            "iteration : 2       2.0, 2.7083333333333335, 2.7416573867739413,0.03332405344060785\n"
          ]
        }
      ],
      "source": [
        "import numpy as np\n",
        "\n",
        "def Y(t):\n",
        "  return np.sqrt(t**2 + (2*t) +6) - 1\n",
        "def F(t,y):\n",
        "  return (1 + t)/(1 + y)\n",
        "a = 1\n",
        "b = 2\n",
        "\n",
        "#step 1\n",
        "h = 0.5\n",
        "N = (b-a)/h\n",
        "t = a\n",
        "w = 2\n",
        "print('iteration :',0, \"      {}, {}, {},{}\".format(t,w,Y(t),abs(w-Y(t))))\n",
        "#step 2\n",
        "i = 1\n",
        "while(i<=N):\n",
        "#step 3\n",
        "  w = w + h * F(t,w)\n",
        "#step 4\n",
        "  t = a + i*h\n",
        "  print('iteration :',i, \"      {}, {}, {},{}\".format(t,w,Y(t),abs(w-Y(t))))\n",
        "  i += 1"
      ]
    },
    {
      "cell_type": "markdown",
      "metadata": {
        "colab_type": "text",
        "id": "qtZIufgEUgW1"
      },
      "source": [
        "### c"
      ]
    },
    {
      "cell_type": "code",
      "execution_count": 0,
      "metadata": {
        "colab": {
          "base_uri": "https://localhost:8080/",
          "height": 106
        },
        "colab_type": "code",
        "id": "-KWoa2jEUh_h",
        "outputId": "41132d65-6cbb-4f17-fd8e-bd83fe39b26e"
      },
      "outputs": [
        {
          "name": "stdout",
          "output_type": "stream",
          "text": [
            "iteration : 0       2, 2, 2.0000000000000004,4.440892098500626e-16\n",
            "iteration : 1       2.25, 2.5, 2.244121110336502,0.25587888966349803\n",
            "iteration : 2       2.5, 3.0277777777777777, 2.5644519492316347,0.463325828546143\n",
            "iteration : 3       2.75, 3.5805555555555557, 2.965193834491754,0.6153617210638016\n",
            "iteration : 4       3.0, 4.156060606060606, 3.451286652264298,0.704773953796308\n"
          ]
        }
      ],
      "source": [
        "import numpy as np\n",
        "\n",
        "def Y(t):\n",
        "  return (t - 2 + np.sqrt(2)*np.exp(1)*np.exp(-t/2))**2\n",
        "\n",
        "def F(t,y):\n",
        "  return -y + (t*y**(1/2))\n",
        "a = 2\n",
        "b = 3\n",
        "\n",
        "#step 1\n",
        "h = 0.25\n",
        "N = (b-a)/h\n",
        "t = a\n",
        "w = 2\n",
        "print('iteration :',0, \"      {}, {}, {},{}\".format(t,w,Y(t),abs(w-Y(t))))\n",
        "#step 2\n",
        "i = 1\n",
        "while(i<=N):\n",
        "#step 3\n",
        "  w = w + h * F(t,w)\n",
        "#step 4\n",
        "  t = a + i*h\n",
        "  print('iteration :',i, \"      {}, {}, {},{}\".format(t,w,Y(t),abs(w-Y(t))))\n",
        "  i += 1"
      ]
    },
    {
      "cell_type": "markdown",
      "metadata": {
        "colab_type": "text",
        "id": "gD03WyT5VA5N"
      },
      "source": [
        "### d"
      ]
    },
    {
      "cell_type": "code",
      "execution_count": 0,
      "metadata": {
        "colab": {
          "base_uri": "https://localhost:8080/",
          "height": 106
        },
        "colab_type": "code",
        "id": "6XGfx9XdVCzw",
        "outputId": "ead5a1c4-09b7-4a34-a3e8-ea55d8949e88"
      },
      "outputs": [
        {
          "name": "stdout",
          "output_type": "stream",
          "text": [
            "iteration : 0       1, 2, 2.0,0.0\n",
            "iteration : 1       1.25, 1.2273243567064205, 1.4031989692799332,0.17587461257351267\n",
            "iteration : 2       1.5, 0.8321501570804853, 1.0164101466785118,0.18425998959802647\n",
            "iteration : 3       1.75, 0.570446772282531, 0.7380097715499843,0.16756299926745322\n",
            "iteration : 4       2.0, 0.37882661467612466, 0.5296870980395587,0.15086048336343405\n"
          ]
        }
      ],
      "source": [
        "import numpy as np\n",
        "\n",
        "def Y(t):\n",
        "  return (4 + np.cos(2) - np.cos(2*t))/(2*t**2)\n",
        "\n",
        "def F(t,y):\n",
        "  return t**-2*(np.sin(2*t)-2*t*y)\n",
        "a = 1\n",
        "b = 2\n",
        "\n",
        "#step 1\n",
        "h = 0.25\n",
        "N = (b-a)/h\n",
        "t = a\n",
        "w = 2\n",
        "print('iteration :',0, \"      {}, {}, {},{}\".format(t,w,Y(t),abs(w-Y(t))))\n",
        "#step 2\n",
        "i = 1\n",
        "while(i<=N):\n",
        "#step 3\n",
        "  w = w + h * F(t,w)\n",
        "#step 4\n",
        "  t = a + i*h\n",
        "  print('iteration :',i, \"      {}, {}, {},{}\".format(t,w,Y(t),abs(w-Y(t))))\n",
        "  i += 1"
      ]
    }
  ]
}