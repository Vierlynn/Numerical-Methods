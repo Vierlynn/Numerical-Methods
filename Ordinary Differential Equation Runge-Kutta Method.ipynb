{
  "nbformat": 4,
  "nbformat_minor": 0,
  "metadata": {
    "colab": {
      "name": "Homework Week 9 Nanda Hakiki 1301160443",
      "provenance": [],
      "collapsed_sections": []
    },
    "kernelspec": {
      "name": "python3",
      "display_name": "Python 3"
    }
  },
  "cells": [
    {
      "cell_type": "markdown",
      "metadata": {
        "id": "HD9PblCCVkgc",
        "colab_type": "text"
      },
      "source": [
        "# <center> Numerical Method for Informatics</center>\n",
        "## <center> Ordinary Differential Equation: Runge-Kutta Method</center>\n",
        "\n",
        "This course is devoted to student of Undergraduate Student of Informatics, Telkom University. \n",
        "\n",
        "Detail of Course\n",
        "\n",
        "\n",
        "*   Course Name: (CSH4403) Numerical Method for Informatics\n",
        "\n",
        "*   Creator: Dr. Putu Harry Gunawan\n",
        "\n",
        "\n",
        "\n",
        "---\n",
        "\n",
        "\n",
        "\n",
        "\n"
      ]
    },
    {
      "cell_type": "markdown",
      "metadata": {
        "id": "XiE-U8OyE9-a",
        "colab_type": "text"
      },
      "source": [
        "**RUNGE-KUTTE ALGORITHM**\n",
        "\n",
        "<center><img src = \"https://i.imgur.com/RP9l241.png\" align = \"center\"> </center>\n",
        "<center><img src = \"https://i.imgur.com/fRZREEQ.png\" align = \"center\"> </center>\n",
        "\n",
        "\n",
        "\n",
        "\n"
      ]
    },
    {
      "cell_type": "markdown",
      "metadata": {
        "id": "MV8MITZfnLCw",
        "colab_type": "text"
      },
      "source": [
        "**Example 1**\n",
        "\n",
        "Use Runge-Kutta method of order four with $h = 0.5$ and $N = 10$ to approximate the solution to the initial-value problem\n",
        "\n",
        "\\begin{equation}\n",
        "    y′=y - t^2 + 1, \\quad 0 \\leq t \\leq 2, \\quad y(0)=0.5.\n",
        "\\end{equation}\n",
        "\n",
        "and compare these with the exact values given by $y(t) = (t + 1)^2 - 0.5 e^t$ .\n",
        "\n",
        "The result should be as the following Table\n",
        "<center><img src = \"https://i.imgur.com/ER4TgNR.png\" align = \"center\"> </center>\n"
      ]
    },
    {
      "cell_type": "code",
      "metadata": {
        "id": "O_kmew7tn-c6",
        "colab_type": "code",
        "outputId": "b35ceb9a-8432-4fb1-8af7-8ef11db4df31",
        "colab": {
          "base_uri": "https://localhost:8080/",
          "height": 230
        }
      },
      "source": [
        "import numpy as np\n",
        "\n",
        "def y(t): #this function for exact solution\n",
        "  return  (t+1)**2 - 0.5*np.exp(t)\n",
        "\n",
        "def f(t,w):\n",
        "  return  w - t**2 + 1\n",
        "\n",
        "a = 0\n",
        "b = 2\n",
        "N = 10\n",
        "alpha =  0.5\n",
        "\n",
        "#Step 1\n",
        "h =  (b-a)/N\n",
        "t =  a\n",
        "w =  alpha\n",
        "yt = y(t) \n",
        "print(\"t    w   y    |y-w|\")\n",
        "print(\"{}  {}  {}  {}\".format(t,w,yt,abs(yt-w)))\n",
        "#step 2\n",
        "i = 1\n",
        "for i in range(1, N+1):\n",
        "#step 3\n",
        "  K1 = h*f(t,w)\n",
        "  K2 = h*f(t+h/2, w+K1/2)\n",
        "  K3 = h*f(t+h/2, w+K2/2)\n",
        "  K4 = h*f(t+h, w+K3)\n",
        "#step 4\n",
        "  w = w + (K1 + 2*K2 + 2*K3 + K4)/6\n",
        "  t = a + i*h\n",
        "  yt = y(t)\n",
        "\n",
        "  print(\"{}  {}  {}  {}\".format(t,w,yt,abs(yt-w)))"
      ],
      "execution_count": 1,
      "outputs": [
        {
          "output_type": "stream",
          "text": [
            "t    w   y    |y-w|\n",
            "0  0.5  0.5  0.0\n",
            "0.2  0.8292933333333334  0.829298620919915  5.2875865815815715e-06\n",
            "0.4  1.2140762106666667  1.2140876511793646  1.1440512697857841e-05\n",
            "0.6000000000000001  1.6489220170416001  1.648940599804746  1.858276314581353e-05\n",
            "0.8  2.1272026849479437  2.1272295357537665  2.6850805822764556e-05\n",
            "1.0  2.6408226927287517  2.6408590857704777  3.639304172597946e-05\n",
            "1.2000000000000002  3.1798941702322305  3.1799415386317267  4.736839949615046e-05\n",
            "1.4000000000000001  3.7323400728549796  3.732400016577664  5.994372268425252e-05\n",
            "1.6  4.283409498318405  4.283483787802443  7.428948403820357e-05\n",
            "1.8  4.815085694579433  4.815176267793525  9.057321409233765e-05\n",
            "2.0  5.305363000692653  5.305471950534675  0.00010894984202192148\n"
          ],
          "name": "stdout"
        }
      ]
    },
    {
      "cell_type": "markdown",
      "metadata": {
        "id": "w6hSrKItmb9I",
        "colab_type": "text"
      },
      "source": [
        "# Exercise\n",
        "\n",
        "Modified this Euler method with Runge-Kutta method for the following problems.\n",
        "\n",
        "<center><img src = \"https://i.imgur.com/f2Vytli.png\" align = \"center\"> </center>\n",
        "<center><img src = \"https://i.imgur.com/BkmOko6.png\" align = \"center\"> </center>\n"
      ]
    },
    {
      "cell_type": "markdown",
      "metadata": {
        "id": "DL8D7hkO9gCF",
        "colab_type": "text"
      },
      "source": [
        "## 1+3"
      ]
    },
    {
      "cell_type": "markdown",
      "metadata": {
        "id": "-11ciWPr9iR2",
        "colab_type": "text"
      },
      "source": [
        "### a"
      ]
    },
    {
      "cell_type": "code",
      "metadata": {
        "id": "Ai9el_YM6X_E",
        "colab_type": "code",
        "outputId": "7d263f7e-829e-44d1-aeeb-8e870ea202a8",
        "colab": {
          "base_uri": "https://localhost:8080/",
          "height": 88
        }
      },
      "source": [
        "import numpy as np\n",
        "\n",
        "def y(t): #this function for exact solution\n",
        "  return  (t*np.exp(3*t)/5) - (np.exp(3*t)/25) + (np.exp(-2*t)/25)\n",
        "\n",
        "def f(t,w):\n",
        "  return (t*np.exp(3*t)) - (2*w)\n",
        "\n",
        "a = 0\n",
        "b = 1\n",
        "alpha =  0\n",
        "\n",
        "#Step 1\n",
        "h =  0.5\n",
        "N = (b-a)/h\n",
        "t =  a\n",
        "w =  alpha\n",
        "yt = y(t) \n",
        "print(\"t    w   y    |y-w|\")\n",
        "print(\"{}  {}  {}  {}\".format(t,w,yt,abs(yt-w)))\n",
        "#step 2\n",
        "i = 1\n",
        "while(i<=N):\n",
        "  #step 3\n",
        "  K1 = h * f(t,w);\n",
        "  K2 = h * f(t+h/2, w + K1/2)\n",
        "  K3 = h * f(t+h/2, w + K2/2)\n",
        "  K4 = h * f(t+h, w + K3)\n",
        "#step 4\n",
        "  w = w + (K1 + 2*K2 + 2*K3 + K4)/6\n",
        "  t = a + i*h\n",
        "  yt = y(t)\n",
        "  #step 5\n",
        "  print(\"{}  {}  {}  {}\".format(t,w,yt,abs(yt-w)))\n",
        "  i += 1"
      ],
      "execution_count": 2,
      "outputs": [
        {
          "output_type": "stream",
          "text": [
            "t    w   y    |y-w|\n",
            "0  0  0.0  0.0\n",
            "0.5  0.2969974621293295  0.2836165218671416  0.01338094026218789\n",
            "1.0  3.3143117774778457  3.2190993190394916  0.09521245843835402\n"
          ],
          "name": "stdout"
        }
      ]
    },
    {
      "cell_type": "markdown",
      "metadata": {
        "id": "cRzCRLwn9l30",
        "colab_type": "text"
      },
      "source": [
        "### b"
      ]
    },
    {
      "cell_type": "code",
      "metadata": {
        "id": "nSlAycS99prI",
        "colab_type": "code",
        "outputId": "0176c4c3-71ec-4565-c3e7-715b1e3ec243",
        "colab": {
          "base_uri": "https://localhost:8080/",
          "height": 88
        }
      },
      "source": [
        "import numpy as np\n",
        "\n",
        "def y(t): #this function for exact solution\n",
        "  return  t + (1/(1-t))\n",
        "\n",
        "def f(t,w):\n",
        "  return 1 + (t-w)**2\n",
        "\n",
        "a = 2\n",
        "b = 3\n",
        "alpha =  1\n",
        "\n",
        "#Step 1\n",
        "h =  0.5\n",
        "N = (b-a)/h\n",
        "t =  a\n",
        "w =  alpha\n",
        "yt = y(t) \n",
        "print(\"t    w   y    |y-w|\")\n",
        "print(\"{}  {}  {}  {}\".format(t,w,yt,abs(yt-w)))\n",
        "#step 2\n",
        "i = 1\n",
        "while(i<=N):\n",
        "  #step 3\n",
        "  K1 = h * f(t,w);\n",
        "  K2 = h*f(t+h/2, w+K1/2)\n",
        "  K3 = h*f(t+h/2, w+K2/2)\n",
        "  K4 = h*f(t+h, w+K3)\n",
        "#step 4\n",
        "  w = w + (K1 + 2*K2 + 2*K3 + K4)/6\n",
        "  t = a + i*h\n",
        "  yt = y(t)\n",
        "  #step 5\n",
        "  print(\"{}  {}  {}  {}\".format(t,w,yt,abs(yt-w)))\n",
        "  i += 1"
      ],
      "execution_count": 3,
      "outputs": [
        {
          "output_type": "stream",
          "text": [
            "t    w   y    |y-w|\n",
            "2  1  1.0  0.0\n",
            "2.5  1.8333233607312045  1.8333333333333335  9.972602128982544e-06\n",
            "3.0  2.4999711934261817  2.5  2.8806573818318526e-05\n"
          ],
          "name": "stdout"
        }
      ]
    },
    {
      "cell_type": "markdown",
      "metadata": {
        "id": "yuS4Bmyf-T3B",
        "colab_type": "text"
      },
      "source": [
        "### c"
      ]
    },
    {
      "cell_type": "code",
      "metadata": {
        "id": "mp6qwAjI-VmO",
        "colab_type": "code",
        "outputId": "8e9ba5ab-74b1-468e-9cfb-168b0368ab2c",
        "colab": {
          "base_uri": "https://localhost:8080/",
          "height": 124
        }
      },
      "source": [
        "import numpy as np\n",
        "\n",
        "def y(t): #this function for exact solution\n",
        "  return  t*np.log(t) + 2*t\n",
        "\n",
        "def f(t,w):\n",
        "  return 1 + w/t\n",
        "\n",
        "a = 1\n",
        "b = 2\n",
        "alpha =  2\n",
        "\n",
        "#Step 1\n",
        "h =  0.25\n",
        "N = (b-a)/h\n",
        "t =  a\n",
        "w =  alpha\n",
        "yt = y(t) \n",
        "print(\"t    w   y    |y-w|\")\n",
        "print(\"{}  {}  {}  {}\".format(t,w,yt,abs(yt-w)))\n",
        "#step 2\n",
        "i = 1\n",
        "while(i<=N):\n",
        "  #step 3\n",
        "  K1 = h * f(t,w);\n",
        "  K2 = h*f(t+h/2, w+K1/2)\n",
        "  K3 = h*f(t+h/2, w+K2/2)\n",
        "  K4 = h*f(t+h, w+K3)\n",
        "#step 4\n",
        "  w = w + (K1 + 2*K2 + 2*K3 + K4)/6\n",
        "  t = a + i*h\n",
        "  yt = y(t)\n",
        "  #step 5\n",
        "  print(\"{}  {}  {}  {}\".format(t,w,yt,abs(yt-w)))\n",
        "  i += 1"
      ],
      "execution_count": 4,
      "outputs": [
        {
          "output_type": "stream",
          "text": [
            "t    w   y    |y-w|\n",
            "1  2  2.0  0.0\n",
            "1.25  2.7789094650205763  2.7789294391427624  1.997412218601724e-05\n",
            "1.5  3.608164728088971  3.6081976621622465  3.293407327564779e-05\n",
            "1.75  4.479284603170578  4.47932762888699  4.3025716411904114e-05\n",
            "2.0  5.386242588808703  5.386294361119891  5.1772311187470166e-05\n"
          ],
          "name": "stdout"
        }
      ]
    },
    {
      "cell_type": "markdown",
      "metadata": {
        "id": "eQ9K8b8s-qfz",
        "colab_type": "text"
      },
      "source": [
        "### d"
      ]
    },
    {
      "cell_type": "code",
      "metadata": {
        "id": "kRpsoyNr-ugD",
        "colab_type": "code",
        "outputId": "1f39d7b2-2623-44d8-f78a-3dc6f45ce8cf",
        "colab": {
          "base_uri": "https://localhost:8080/",
          "height": 124
        }
      },
      "source": [
        "import numpy as np\n",
        "\n",
        "def y(t): #this function for exact solution\n",
        "  return  (np.sin(2*t)/2) - (np.cos(3*t)/3) + (4/3)\n",
        "def f(t,w):\n",
        "  return np.cos(2*t) + np.sin(3*t)\n",
        "\n",
        "a = 0\n",
        "b = 1\n",
        "alpha =  1\n",
        "\n",
        "#Step 1\n",
        "h =  0.25\n",
        "N = (b-a)/h\n",
        "t =  a\n",
        "w =  alpha\n",
        "yt = y(t) \n",
        "print(\"t    w   y    |y-w|\")\n",
        "print(\"{}  {}  {}  {}\".format(t,w,yt,abs(yt-w)))\n",
        "#step 2\n",
        "i = 1\n",
        "while(i<=N):\n",
        "  #step 3\n",
        "  K1 = h * f(t,w);\n",
        "  K2 = h*f(t+h/2, w+K1/2)\n",
        "  K3 = h*f(t+h/2, w+K2/2)\n",
        "  K4 = h*f(t+h, w+K3)\n",
        "#step 4\n",
        "  w = w + (K1 + 2*K2 + 2*K3 + K4)/6\n",
        "  t = a + i*h\n",
        "  yt = y(t)\n",
        "  #step 5\n",
        "  print(\"{}  {}  {}  {}\".format(t,w,yt,abs(yt-w)))\n",
        "  i += 1"
      ],
      "execution_count": 5,
      "outputs": [
        {
          "output_type": "stream",
          "text": [
            "t    w   y    |y-w|\n",
            "0  1  1.0  0.0\n",
            "0.25  1.3291650468791865  1.3291498130108277  1.5233868358777158e-05\n",
            "0.5  1.7305335663074184  1.7304897585147139  4.3807792704519954e-05\n",
            "0.75  2.0415435774344046  2.041472034209607  7.154322479774322e-05\n",
            "1.0  2.1180636000140187  2.1179795456129895  8.405440102920991e-05\n"
          ],
          "name": "stdout"
        }
      ]
    },
    {
      "cell_type": "markdown",
      "metadata": {
        "id": "6f7ecd5QAAMD",
        "colab_type": "text"
      },
      "source": [
        "## 2+4"
      ]
    },
    {
      "cell_type": "markdown",
      "metadata": {
        "id": "rcyy3CrxBhiU",
        "colab_type": "text"
      },
      "source": [
        "### a"
      ]
    },
    {
      "cell_type": "code",
      "metadata": {
        "id": "aio2fAVRBjlm",
        "colab_type": "code",
        "outputId": "e7a3d569-dfb7-416e-d489-cdfa4d09d974",
        "colab": {
          "base_uri": "https://localhost:8080/",
          "height": 88
        }
      },
      "source": [
        "import numpy as np\n",
        "\n",
        "def y(t): #this function for exact solution\n",
        "  return  np.log(np.exp(t) + np.exp(1) - 1)\n",
        "def f(t,w):\n",
        "  return np.exp(t-w)\n",
        "\n",
        "a = 0\n",
        "b = 1\n",
        "alpha =  1\n",
        "\n",
        "#Step 1\n",
        "h =  0.5\n",
        "N = (b-a)/h\n",
        "t =  a\n",
        "w =  alpha\n",
        "yt = y(t) \n",
        "print(\"t    w   y    |y-w|\")\n",
        "print(\"{}  {}  {}  {}\".format(t,w,yt,abs(yt-w)))\n",
        "#step 2\n",
        "i = 1\n",
        "while(i<=N):\n",
        "  #step 3\n",
        "  K1 = h * f(t,w);\n",
        "  K2 = h*f(t+h/2, w+K1/2)\n",
        "  K3 = h*f(t+h/2, w+K2/2)\n",
        "  K4 = h*f(t+h, w+K3)\n",
        "#step 4\n",
        "  w = w + (K1 + 2*K2 + 2*K3 + K4)/6\n",
        "  t = a + i*h\n",
        "  yt = y(t)\n",
        "  #step 5\n",
        "  print(\"{}  {}  {}  {}\".format(t,w,yt,abs(yt-w)))\n",
        "  i += 1"
      ],
      "execution_count": 6,
      "outputs": [
        {
          "output_type": "stream",
          "text": [
            "t    w   y    |y-w|\n",
            "0  1  1.0  0.0\n",
            "0.5  1.2140409470608433  1.2140230606297089  1.788643113442845e-05\n",
            "1.0  1.4899212856902202  1.4898801256447498  4.116004547038976e-05\n"
          ],
          "name": "stdout"
        }
      ]
    },
    {
      "cell_type": "markdown",
      "metadata": {
        "id": "viSej1u7DTNw",
        "colab_type": "text"
      },
      "source": [
        "### b"
      ]
    },
    {
      "cell_type": "code",
      "metadata": {
        "id": "ToHOudAmDUe2",
        "colab_type": "code",
        "outputId": "f41240b1-25ef-45e7-cb26-06f4a10a5827",
        "colab": {
          "base_uri": "https://localhost:8080/",
          "height": 88
        }
      },
      "source": [
        "import numpy as np\n",
        "\n",
        "def y(t): #this function for exact solution\n",
        "  return np.sqrt(t**2 + (2*t) +6) - 1\n",
        "def f(t,w):\n",
        "  return (1 + t)/(1 + w)\n",
        "\n",
        "a = 1\n",
        "b = 2\n",
        "alpha =  2\n",
        "\n",
        "#Step 1\n",
        "h =  0.5\n",
        "N = (b-a)/h\n",
        "t =  a\n",
        "w =  alpha\n",
        "yt = y(t) \n",
        "print(\"t    w   y    |y-w|\")\n",
        "print(\"{}  {}  {}  {}\".format(t,w,yt,abs(yt-w)))\n",
        "#step 2\n",
        "i = 1\n",
        "while(i<=N):\n",
        "  #step 3\n",
        "  K1 = h * f(t,w);\n",
        "  K2 = h*f(t+h/2, w+K1/2)\n",
        "  K3 = h*f(t+h/2, w+K2/2)\n",
        "  K4 = h*f(t+h, w+K3)\n",
        "#step 4\n",
        "  w = w + (K1 + 2*K2 + 2*K3 + K4)/6\n",
        "  t = a + i*h\n",
        "  yt = y(t)\n",
        "  #step 5\n",
        "  print(\"{}  {}  {}  {}\".format(t,w,yt,abs(yt-w)))\n",
        "  i += 1"
      ],
      "execution_count": 7,
      "outputs": [
        {
          "output_type": "stream",
          "text": [
            "t    w   y    |y-w|\n",
            "1  2  2.0  0.0\n",
            "1.5  2.3541032280782472  2.3541019662496847  1.2618285625265457e-06\n",
            "2.0  2.7416590855620733  2.7416573867739413  1.6987881319430187e-06\n"
          ],
          "name": "stdout"
        }
      ]
    },
    {
      "cell_type": "markdown",
      "metadata": {
        "id": "v197v8XGEs6r",
        "colab_type": "text"
      },
      "source": [
        "### c"
      ]
    },
    {
      "cell_type": "code",
      "metadata": {
        "id": "58kOEfRCEuOo",
        "colab_type": "code",
        "outputId": "aad7d7a7-e491-4c9a-edba-438195a22593",
        "colab": {
          "base_uri": "https://localhost:8080/",
          "height": 124
        }
      },
      "source": [
        "import numpy as np\n",
        "\n",
        "def y(t): #this function for exact solution\n",
        "  return (t - 2 + np.sqrt(2)*np.exp(1)*np.exp(-t/2))**2\n",
        "def f(t,w):\n",
        "  return -w + (t*w**(1/2))\n",
        "\n",
        "a = 2\n",
        "b = 3\n",
        "alpha =  2\n",
        "\n",
        "#Step 1\n",
        "h =  0.25\n",
        "N = (b-a)/h\n",
        "t =  a\n",
        "w =  alpha\n",
        "yt = y(t) \n",
        "print(\"t    w   y    |y-w|\")\n",
        "print(\"{}  {}  {}  {}\".format(t,w,yt,abs(yt-w)))\n",
        "#step 2\n",
        "i = 1\n",
        "while(i<=N):\n",
        "  #step 3\n",
        "  K1 = h * f(t,w);\n",
        "  K2 = h*f(t+h/2, w+K1/2)\n",
        "  K3 = h*f(t+h/2, w+K2/2)\n",
        "  K4 = h*f(t+h, w+K3)\n",
        "#step 4\n",
        "  w = w + (K1 + 2*K2 + 2*K3 + K4)/6\n",
        "  t = a + i*h\n",
        "  yt = y(t)\n",
        "  #step 5\n",
        "  print(\"{}  {}  {}  {}\".format(t,w,yt,abs(yt-w)))\n",
        "  i += 1"
      ],
      "execution_count": 10,
      "outputs": [
        {
          "output_type": "stream",
          "text": [
            "t    w   y    |y-w|\n",
            "2  2  2.0000000000000004  4.440892098500626e-16\n",
            "2.25  2.244119414595606  2.244121110336502  1.6957408961459919e-06\n",
            "2.5  2.564448777541008  2.5644519492316347  3.1716906265799594e-06\n",
            "2.75  2.965189392297238  2.965193834491754  4.442194516229847e-06\n",
            "3.0  3.45128113417462  3.451286652264298  5.518089678080429e-06\n"
          ],
          "name": "stdout"
        }
      ]
    },
    {
      "cell_type": "markdown",
      "metadata": {
        "id": "oHIjo4lOFB4j",
        "colab_type": "text"
      },
      "source": [
        "### d"
      ]
    },
    {
      "cell_type": "code",
      "metadata": {
        "id": "sCRDpyaLFDEQ",
        "colab_type": "code",
        "outputId": "946362f4-bae1-4009-ab9d-a9b3fab7b705",
        "colab": {
          "base_uri": "https://localhost:8080/",
          "height": 124
        }
      },
      "source": [
        "import numpy as np\n",
        "\n",
        "def y(t): #this function for exact solution\n",
        "  return (4 + np.cos(2) - np.cos(2*t))/(2*t**2)\n",
        "def f(t,w):\n",
        "  return t**-2*(np.sin(2*t) - 2*t*w)\n",
        "\n",
        "a = 1\n",
        "b = 2\n",
        "alpha =  2\n",
        "\n",
        "#Step 1\n",
        "h =  0.25\n",
        "N = (b-a)/h\n",
        "t =  a\n",
        "w =  alpha\n",
        "yt = y(t) \n",
        "print(\"t    w   y    |y-w|\")\n",
        "print(\"{}  {}  {}  {}\".format(t,w,yt,abs(yt-w)))\n",
        "#step 2\n",
        "i = 1\n",
        "while(i<=N):\n",
        "  #step 3\n",
        "  K1 = h * f(t,w);\n",
        "  K2 = h*f(t+h/2, w+K1/2)\n",
        "  K3 = h*f(t+h/2, w+K2/2)\n",
        "  K4 = h*f(t+h, w+K3)\n",
        "#step 4\n",
        "  w = w + (K1 + 2*K2 + 2*K3 + K4)/6\n",
        "  t = a + i*h\n",
        "  yt = y(t)\n",
        "  #step 5\n",
        "  print(\"{}  {}  {}  {}\".format(t,w,yt,abs(yt-w)))\n",
        "  i += 1"
      ],
      "execution_count": 9,
      "outputs": [
        {
          "output_type": "stream",
          "text": [
            "t    w   y    |y-w|\n",
            "1  2  2.0  0.0\n",
            "1.25  1.403356615429061  1.4031989692799332  0.0001576461491279435\n",
            "1.5  1.0165585859136061  1.0164101466785118  0.0001484392350943331\n",
            "1.75  0.7381316836791276  0.7380097715499843  0.00012191212914336447\n",
            "2.0  0.5297855647836995  0.5296870980395587  9.846674414082379e-05\n"
          ],
          "name": "stdout"
        }
      ]
    }
  ]
}